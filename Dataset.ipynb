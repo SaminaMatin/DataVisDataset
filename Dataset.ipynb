{
 "cells": [
  {
   "cell_type": "markdown",
   "metadata": {},
   "source": [
    "Loading DataSet"
   ]
  },
  {
   "cell_type": "code",
   "execution_count": null,
   "metadata": {},
   "outputs": [],
   "source": [
    "import pandas as pd\n",
    "# loads the dataset\n",
    "data = pd.read_excel('/Users/saminamatin/Documents/YR-3-2024:24/IN3030 - Data Visualization/DataVis/religionagesex.xlsx')\n",
    "\n",
    "#prints some rows from the dataset \n",
    "print(data.head(\" \"))"
   ]
  },
  {
   "cell_type": "markdown",
   "metadata": {},
   "source": [
    "Creates Other Religion File"
   ]
  },
  {
   "cell_type": "code",
   "execution_count": null,
   "metadata": {},
   "outputs": [],
   "source": [
    "import pandas as pd\n",
    "#loads original dataset\n",
    "originalDataset = pd.read_excel('/Users/saminamatin/Documents/YR-3-2024:24/IN3030 - Data Visualization/DataVis/religionagesex.xlsx') \n",
    "\n",
    "#prints some rows from the dataset \n",
    "selectedColumns = originalDataset[['Other Religion', 'Other religion Female', 'Other religion Male']] \n",
    "\n",
    "#prints the selected columns\n",
    "print(selectedColumns)\n",
    "\n",
    "OtherReligion_dataset = originalDataset[['Other Religion', 'Other religion Female', 'Other religion Male']] \n",
    "\n",
    "#save to a new CSV file\n",
    "OtherReligion_dataset.to_csv(selectedColumns, index=False)\n",
    "\n"
   ]
  }
 ],
 "metadata": {
  "language_info": {
   "name": "python"
  }
 },
 "nbformat": 4,
 "nbformat_minor": 2
}
